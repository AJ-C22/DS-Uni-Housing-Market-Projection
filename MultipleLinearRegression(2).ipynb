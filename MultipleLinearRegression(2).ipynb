{
 "cells": [
  {
   "cell_type": "code",
   "execution_count": null,
   "metadata": {},
   "outputs": [],
   "source": [
    "import pandas as pd\n",
    "import matplotlib.pyplot as plt \n",
    "import numpy as np \n",
    "from sklearn import preprocessing\n",
    "from sklearn.linear_model import LinearRegression, Lasso\n",
    "from sklearn.metrics import mean_absolute_error , mean_squared_error\n",
    "from sklearn.model_selection import train_test_split\n",
    "from sklearn import linear_model\n",
    "from sklearn.model_selection import train_test_split"
   ]
  },
  {
   "cell_type": "code",
   "execution_count": null,
   "metadata": {},
   "outputs": [],
   "source": [
    "df = pd.read_csv('housing_cleaned.csv')\n",
    "df2 = pd.read_csv('housing_cleaned.csv')"
   ]
  },
  {
   "cell_type": "code",
   "execution_count": null,
   "metadata": {},
   "outputs": [],
   "source": [
    "df2 = df2[df2[\"Size(sqft)\"].str.contains(\"N/A\") == False]\n",
    "df2 = df2[df2[\"Size(sqft)\"].str.contains(\"Limited\") == False]\n",
    "df2= df2[df2[\"Bedrooms\"].str.contains(\"5+\") == False]\n",
    "df = df[df[\"Bedrooms\"].str.contains(\"5+\") == False]\n",
    "df2['Bedrooms'] = df2[\"Bedrooms\"].astype(float)\n",
    "df2['Bathrooms'] = df2[\"Bathrooms\"].astype(float)\n",
    "df['Bedrooms'] = df[\"Bedrooms\"].astype(float)\n",
    "df['Bathrooms'] = df[\"Bathrooms\"].astype(float)\n",
    "df2['Size(sqft)'] = df2[\"Size(sqft)\"].astype(float)"
   ]
  },
  {
   "cell_type": "code",
   "execution_count": null,
   "metadata": {},
   "outputs": [],
   "source": [
    "status = pd.get_dummies(df2['Location'], dtype = int)\n",
    "status3 = pd.get_dummies(df2['Style'], dtype = int)\n",
    "\n",
    "df2 = pd.concat([df2, status, status3,], axis = 1)\n",
    "\n",
    "df2.drop(columns='Location',inplace=True)\n",
    "df2.drop(columns='Den',inplace=True)\n",
    "df2.drop(columns='Bachelor/Studio',inplace=True)\n",
    "df2.drop(columns='Style',inplace=True)\n",
    "df2.drop(columns='Air Conditioned  ',inplace=True)\n",
    "df2.drop(columns = 'Title', inplace = True)"
   ]
  },
  {
   "cell_type": "code",
   "execution_count": null,
   "metadata": {},
   "outputs": [],
   "source": [
    "df2 = df2[df2['Size(sqft)'] > 50]\n",
    "df2 = df2[df2['Size(sqft)'] < 3600]\n",
    "df2 = df2[df2['Price'] > 1250]\n",
    "\n",
    "\n"
   ]
  },
  {
   "cell_type": "code",
   "execution_count": null,
   "metadata": {},
   "outputs": [],
   "source": [
    "numeric_cols = df2.select_dtypes(include = [np.number])\n",
    "corr = numeric_cols.corr()\n",
    "print(corr['Price'].sort_values(ascending = False), '\\n')"
   ]
  },
  {
   "cell_type": "code",
   "execution_count": null,
   "metadata": {},
   "outputs": [],
   "source": [
    "df_model = df2\n",
    "\n",
    "#Get dummy data\n",
    "df_dum = pd.get_dummies(df_model, dtype = int)"
   ]
  },
  {
   "cell_type": "code",
   "execution_count": null,
   "metadata": {},
   "outputs": [],
   "source": [
    "#Train test split\n",
    "X = df_dum.drop('Price', axis =1)\n",
    "y = df_dum['Price']\n",
    "\n",
    "X_train, X_test, y_train, y_test = train_test_split(X, y, test_size=0.2, random_state=42)"
   ]
  },
  {
   "cell_type": "code",
   "execution_count": null,
   "metadata": {},
   "outputs": [],
   "source": [
    "plt.scatter(x = df2['Size(sqft)'], y = df2['Price'])\n",
    "plt.xlabel('Size')\n",
    "plt.ylabel('Price')"
   ]
  },
  {
   "cell_type": "code",
   "execution_count": null,
   "metadata": {},
   "outputs": [],
   "source": [
    "lr = linear_model.LinearRegression()\n",
    "model = lr.fit(X_train, y_train)\n",
    "predicitions = model.predict(X_test)\n",
    "model.score(X_test, y_test)"
   ]
  },
  {
   "cell_type": "code",
   "execution_count": null,
   "metadata": {},
   "outputs": [],
   "source": [
    "\n",
    "y_test[:10]"
   ]
  },
  {
   "cell_type": "code",
   "execution_count": null,
   "metadata": {},
   "outputs": [],
   "source": [
    "model.predict(X_test[:10])"
   ]
  },
  {
   "cell_type": "code",
   "execution_count": null,
   "metadata": {},
   "outputs": [],
   "source": [
    "plt.figure(figsize=(18,10))\n",
    "x_ax = range(len(y_test)) \n",
    "plt.plot(x_ax, y_test, label = \"original\")\n",
    "plt.plot(x_ax, predicitions, label = \"predicted\")\n",
    "plt.title(\"Actual Sales & Predicted Data\")\n",
    "plt.legend\n",
    "plt.show()"
   ]
  }
 ],
 "metadata": {
  "kernelspec": {
   "display_name": "Python 3",
   "language": "python",
   "name": "python3"
  },
  "language_info": {
   "codemirror_mode": {
    "name": "ipython",
    "version": 3
   },
   "file_extension": ".py",
   "mimetype": "text/x-python",
   "name": "python",
   "nbconvert_exporter": "python",
   "pygments_lexer": "ipython3",
   "version": "3.11.4"
  },
  "orig_nbformat": 4
 },
 "nbformat": 4,
 "nbformat_minor": 2
}
